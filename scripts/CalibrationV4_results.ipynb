{
 "cells": [
  {
   "cell_type": "markdown",
   "metadata": {},
   "source": [
    "This notebook contains a brief look at the identification rates after RF calibration performed in the CalibrationV4.ipynb notebook."
   ]
  },
  {
   "cell_type": "code",
   "execution_count": null,
   "metadata": {},
   "outputs": [],
   "source": [
    "import pandas as pd\n",
    "pd.set_option('display.max_columns', None)\n",
    "tsv_file_path_1 = 'b1948_293T_proteinID_12B_QE3_122212.tsv'\n",
    "tsv_file_path_2 = 'b1948_293T_proteinID_12B_QE3_122212_Calibrated.tsv'\n",
    "df1 = pd.read_csv(tsv_file_path_1, sep='\\t')\n",
    "df2 = pd.read_csv(tsv_file_path_2, sep='\\t')"
   ]
  },
  {
   "cell_type": "code",
   "execution_count": 5,
   "metadata": {},
   "outputs": [
    {
     "name": "stdout",
     "output_type": "stream",
     "text": [
      "(40002, 36)\n",
      "(40074, 36)\n"
     ]
    }
   ],
   "source": [
    "dimensions1 = df1.shape\n",
    "print(dimensions1)\n",
    "dimensions2 = df2.shape\n",
    "print(dimensions2)"
   ]
  },
  {
   "cell_type": "code",
   "execution_count": 6,
   "metadata": {},
   "outputs": [
    {
     "name": "stdout",
     "output_type": "stream",
     "text": [
      "(20442, 36)\n",
      "(21208, 36)\n"
     ]
    }
   ],
   "source": [
    "df1q = df1[df1[\"spectrum_q\"] < 0.01]\n",
    "dimensions1q = df1q.shape\n",
    "print(dimensions1q)\n",
    "df2q = df2[df2[\"spectrum_q\"] < 0.01]\n",
    "dimensions2q = df2q.shape\n",
    "print(dimensions2q)"
   ]
  }
 ],
 "metadata": {
  "kernelspec": {
   "display_name": ".venv",
   "language": "python",
   "name": "python3"
  },
  "language_info": {
   "codemirror_mode": {
    "name": "ipython",
    "version": 3
   },
   "file_extension": ".py",
   "mimetype": "text/x-python",
   "name": "python",
   "nbconvert_exporter": "python",
   "pygments_lexer": "ipython3",
   "version": "3.11.2"
  }
 },
 "nbformat": 4,
 "nbformat_minor": 2
}
