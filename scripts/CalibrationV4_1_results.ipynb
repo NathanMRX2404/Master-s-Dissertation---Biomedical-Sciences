{
 "cells": [
  {
   "cell_type": "markdown",
   "metadata": {},
   "source": [
    "In analogy with the CalibrationV4_results.ipynb notebook, this notebook contains the results after performing RF calibration on the PXD032235 subset mzML file."
   ]
  },
  {
   "cell_type": "code",
   "execution_count": null,
   "metadata": {},
   "outputs": [],
   "source": [
    "import pandas as pd\n",
    "pd.set_option('display.max_columns', None)\n",
    "tsv_file_path_1 = '20210120_HM_HEK_IAA_300minGr_R1.tsv'\n",
    "tsv_file_path_2 = '20210120_HM_HEK_IAA_300minGr_R1_Calibrated.tsv'\n",
    "df1 = pd.read_csv(tsv_file_path_1, sep='\\t')\n",
    "df2 = pd.read_csv(tsv_file_path_2, sep='\\t')"
   ]
  },
  {
   "cell_type": "code",
   "execution_count": 2,
   "metadata": {},
   "outputs": [
    {
     "name": "stdout",
     "output_type": "stream",
     "text": [
      "(60108, 36)\n",
      "(55871, 36)\n"
     ]
    }
   ],
   "source": [
    "dimensions1 = df1.shape\n",
    "print(dimensions1)\n",
    "dimensions2 = df2.shape\n",
    "print(dimensions2)"
   ]
  },
  {
   "cell_type": "code",
   "execution_count": 3,
   "metadata": {},
   "outputs": [
    {
     "name": "stdout",
     "output_type": "stream",
     "text": [
      "(46806, 36)\n",
      "(44809, 36)\n"
     ]
    }
   ],
   "source": [
    "df1q = df1[df1[\"spectrum_q\"] < 0.01]\n",
    "dimensions1q = df1q.shape\n",
    "print(dimensions1q)\n",
    "df2q = df2[df2[\"spectrum_q\"] < 0.01]\n",
    "dimensions2q = df2q.shape\n",
    "print(dimensions2q)"
   ]
  }
 ],
 "metadata": {
  "kernelspec": {
   "display_name": ".venv",
   "language": "python",
   "name": "python3"
  },
  "language_info": {
   "codemirror_mode": {
    "name": "ipython",
    "version": 3
   },
   "file_extension": ".py",
   "mimetype": "text/x-python",
   "name": "python",
   "nbconvert_exporter": "python",
   "pygments_lexer": "ipython3",
   "version": "3.11.2"
  }
 },
 "nbformat": 4,
 "nbformat_minor": 2
}
